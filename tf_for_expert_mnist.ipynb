{
  "cells": [
    {
      "cell_type": "code",
      "execution_count": null,
      "metadata": {
        "id": "n40AFkzwkQMQ"
      },
      "outputs": [],
      "source": [
        "import tensorflow as tf\n",
        "from tensorflow.keras.layers import Dense, Flatten, Conv2D"
      ]
    },
    {
      "cell_type": "code",
      "execution_count": null,
      "metadata": {
        "id": "GTuKZc1Sk-wH"
      },
      "outputs": [],
      "source": [
        "mnist = tf.keras.datasets.mnist\n",
        "\n",
        "(x_train, y_train), (x_test, y_test) = mnist.load_data()\n",
        "x_train = x_train / 255.0\n",
        "x_test = x_test / 255.0\n",
        "\n",
        "x_train = x_train[..., tf.newaxis]   \n",
        "x_test = x_test[..., tf.newaxis]  "
      ]
    },
    {
      "cell_type": "code",
      "execution_count": null,
      "metadata": {
        "id": "ncm8Rbb0n9U6"
      },
      "outputs": [],
      "source": [
        "x_train[0].shape"
      ]
    },
    {
      "cell_type": "code",
      "execution_count": null,
      "metadata": {
        "id": "6hxlGsjervM4"
      },
      "outputs": [],
      "source": [
        "x_test[0].shape"
      ]
    },
    {
      "cell_type": "code",
      "execution_count": null,
      "metadata": {
        "id": "YI4mSQeACgMY"
      },
      "outputs": [],
      "source": [
        "train_dataset = tf.data.Dataset.from_tensor_slices((x_train, y_train)).shuffle(1000).batch(32)\n",
        "test_dataset = tf.data.Dataset.from_tensor_slices((x_test, y_test)).batch(32)"
      ]
    },
    {
      "cell_type": "code",
      "execution_count": null,
      "metadata": {
        "id": "p2rafa-TD02g"
      },
      "outputs": [],
      "source": [
        "class MyModel(tf.keras.Model):\n",
        "  def __init__(self):\n",
        "    super().__init__()\n",
        "    self.conv1 = Conv2D(3, 3, activation=\"relu\")\n",
        "    self.flatten = Flatten()\n",
        "    self.d1 = Dense(128, activation=\"relu\")\n",
        "    self.d2 = Dense(10)\n",
        "\n",
        "  def call(self, x):\n",
        "    x = self.conv1(x)\n",
        "    x = self.flatten(x)\n",
        "    x = self.d1(x)\n",
        "    x = self.d2(x)\n",
        "    return x\n",
        "\n",
        "model = MyModel()"
      ]
    },
    {
      "cell_type": "code",
      "execution_count": null,
      "metadata": {
        "id": "mJtbrUYZKJXi"
      },
      "outputs": [],
      "source": [
        "loss_function = tf.keras.losses.SparseCategoricalCrossentropy(from_logits=True)\n",
        "\n",
        "optimiser = tf.keras.optimizers.Adam()"
      ]
    },
    {
      "cell_type": "code",
      "execution_count": null,
      "metadata": {
        "id": "f6QiXkc2L4rD"
      },
      "outputs": [],
      "source": [
        "\n",
        "train_loss = tf.keras.metrics.Mean()\n",
        "test_loss = tf.keras.metrics.Mean()\n",
        "\n",
        "train_accuracy = tf.keras.metrics.SparseCategoricalCrossentropy()\n",
        "test_accuracy = tf.keras.metrics.SparseCategoricalCrossentropy()"
      ]
    },
    {
      "cell_type": "code",
      "execution_count": null,
      "metadata": {
        "id": "y6l7MAJIwz8J"
      },
      "outputs": [],
      "source": [
        "@tf.function\n",
        "def train(images, labels):\n",
        "  with tf.GradientTape() as tape:\n",
        "    pred = model(images)\n",
        "    loss = loss_function(labels, pred)\n",
        "  gradients = tape.gradient(loss, model.trainable_variables)\n",
        "  optimiser.apply_gradients(zip(gradients, model.trainable_variables))\n",
        "\n",
        "  train_loss(loss)\n",
        "  train_accuracy(labels, pred)\n"
      ]
    },
    {
      "cell_type": "code",
      "execution_count": null,
      "metadata": {
        "id": "8fv11mQixqyo"
      },
      "outputs": [],
      "source": [
        "@tf.function\n",
        "def test(images, labels):\n",
        "  pred = model(images)\n",
        "  loss = loss_function(labels, pred)\n",
        "\n",
        "  test_loss(loss)\n",
        "  test_accuracy(labels, pred)"
      ]
    },
    {
      "cell_type": "code",
      "execution_count": null,
      "metadata": {
        "id": "yQCa6DipNVNe"
      },
      "outputs": [],
      "source": [
        "epochs = 5\n",
        "\n",
        "for epoch in range(epochs):\n",
        "    train_loss.reset_states()\n",
        "    train_accuracy.reset_states()\n",
        "    test_loss.reset_states()\n",
        "    test_accuracy.reset_states()\n",
        "  #train\n",
        "    for images, labels in train_dataset:\n",
        "      train(images, labels)\n",
        "\n",
        "    #test\n",
        "    for images, labels in test_dataset:\n",
        "      test(images, labels)\n",
        "\n",
        "\n",
        "    print(\"epoch:\", epoch + 1,\n",
        "          f\"Train loss: {train_loss.result()}\",\n",
        "          f\"Train accuracy: {train_accuracy.result()}\",\n",
        "          f\"Test loss: {test_loss.result()}\",\n",
        "          f\"test accuracy: {test_accuracy.result()}\")\n",
        "\n"
      ]
    },
    {
      "cell_type": "code",
      "execution_count": null,
      "metadata": {
        "id": "HaiFhspv2vSv"
      },
      "outputs": [],
      "source": [
        "import cv2\n",
        "import numpy as np\n",
        "\n",
        "img = cv2.imread(\"/content/seven.webp\")\n",
        "img = cv2.cvtColor(img, cv2.COLOR_BGR2GRAY)\n",
        "img = cv2.resize(img, (28, 28))\n",
        "img = img[..., tf.newaxis]\n",
        "img = img[tf.newaxis, ...]\n",
        "img = img.astype(\"float32\")\n",
        "\n",
        "pred = model(img)\n",
        "result = np.argmax(pred)\n",
        "result"
      ]
    },
    {
      "cell_type": "code",
      "execution_count": null,
      "metadata": {
        "id": "Cpe5KDj23rLH"
      },
      "outputs": [],
      "source": [
        "model.save(\"My_Model\")"
      ]
    },
    {
      "cell_type": "code",
      "execution_count": null,
      "metadata": {
        "id": "WNFly34t4Asf"
      },
      "outputs": [],
      "source": [
        "model = tf.keras.models.load_model(\"/content/My_Model\")"
      ]
    }
  ],
  "metadata": {
    "accelerator": "GPU",
    "colab": {
      "cell_execution_strategy": "setup",
      "gpuType": "T4",
      "private_outputs": true,
      "provenance": []
    },
    "kernelspec": {
      "display_name": "Python 3",
      "name": "python3"
    },
    "language_info": {
      "name": "python"
    }
  },
  "nbformat": 4,
  "nbformat_minor": 0
}
