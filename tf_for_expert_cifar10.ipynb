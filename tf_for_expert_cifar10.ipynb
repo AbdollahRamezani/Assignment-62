{
  "nbformat": 4,
  "nbformat_minor": 0,
  "metadata": {
    "colab": {
      "provenance": [],
      "gpuType": "T4"
    },
    "kernelspec": {
      "name": "python3",
      "display_name": "Python 3"
    },
    "language_info": {
      "name": "python"
    },
    "accelerator": "GPU"
  },
  "cells": [
    {
      "cell_type": "code",
      "execution_count": 2,
      "metadata": {
        "id": "aKLW7kiU1Vy1"
      },
      "outputs": [],
      "source": [
        "import tensorflow as tf\n",
        "from tensorflow.keras.layers import Dense, Flatten, Conv2D"
      ]
    },
    {
      "cell_type": "code",
      "source": [
        "cifar10 = tf.keras.datasets.cifar10\n",
        "\n",
        "(x_train, y_train), (x_test, y_test) = cifar10.load_data()\n",
        "x_train = x_train / 255.0\n",
        "x_test = x_test / 255.0\n"
      ],
      "metadata": {
        "colab": {
          "base_uri": "https://localhost:8080/"
        },
        "id": "8FzG5jUH6M-o",
        "outputId": "9a367ca1-dacf-4e2e-aaaa-14308dbbaba4"
      },
      "execution_count": 3,
      "outputs": [
        {
          "output_type": "stream",
          "name": "stdout",
          "text": [
            "Downloading data from https://www.cs.toronto.edu/~kriz/cifar-10-python.tar.gz\n",
            "170498071/170498071 [==============================] - 3s 0us/step\n"
          ]
        }
      ]
    },
    {
      "cell_type": "code",
      "source": [
        "x_train[0].shape"
      ],
      "metadata": {
        "colab": {
          "base_uri": "https://localhost:8080/"
        },
        "id": "LDybhKEi6cio",
        "outputId": "8be2246b-b48f-4c67-eb3d-bbbb40d2d062"
      },
      "execution_count": 4,
      "outputs": [
        {
          "output_type": "execute_result",
          "data": {
            "text/plain": [
              "(32, 32, 3)"
            ]
          },
          "metadata": {},
          "execution_count": 4
        }
      ]
    },
    {
      "cell_type": "code",
      "source": [
        "x_test[0].shape"
      ],
      "metadata": {
        "colab": {
          "base_uri": "https://localhost:8080/"
        },
        "id": "Pm3hIx6e6fkA",
        "outputId": "28687986-c422-4070-e1e9-a7980ab52f5b"
      },
      "execution_count": 5,
      "outputs": [
        {
          "output_type": "execute_result",
          "data": {
            "text/plain": [
              "(32, 32, 3)"
            ]
          },
          "metadata": {},
          "execution_count": 5
        }
      ]
    },
    {
      "cell_type": "code",
      "source": [
        "train_dataset = tf.data.Dataset.from_tensor_slices((x_train, y_train)).shuffle(1000).batch(32)\n",
        "test_dataset = tf.data.Dataset.from_tensor_slices((x_test, y_test)).batch(32)"
      ],
      "metadata": {
        "id": "CbobNDDf6m1o"
      },
      "execution_count": 6,
      "outputs": []
    },
    {
      "cell_type": "code",
      "source": [
        "class MyModel(tf.keras.Model):\n",
        "  def __init__(self):\n",
        "    super().__init__()\n",
        "    self.conv1 = Conv2D(3, 3, activation=\"relu\")\n",
        "    self.flatten = Flatten()\n",
        "    self.d1 = Dense(128, activation=\"relu\")\n",
        "    self.d2 = Dense(10)\n",
        "\n",
        "  def call(self, x):\n",
        "    x = self.conv1(x)\n",
        "    x = self.flatten(x)\n",
        "    x = self.d1(x)\n",
        "    x = self.d2(x)\n",
        "    return x\n",
        "\n",
        "model = MyModel()"
      ],
      "metadata": {
        "id": "6pS0l9XX6r1K"
      },
      "execution_count": 8,
      "outputs": []
    },
    {
      "cell_type": "code",
      "source": [
        "loss_function = tf.keras.losses.SparseCategoricalCrossentropy(from_logits=True)\n",
        "\n",
        "optimiser = tf.keras.optimizers.Adam()"
      ],
      "metadata": {
        "id": "a-CUFucW6t2P"
      },
      "execution_count": 9,
      "outputs": []
    },
    {
      "cell_type": "code",
      "source": [
        "train_loss = tf.keras.metrics.Mean()\n",
        "test_loss = tf.keras.metrics.Mean()\n",
        "\n",
        "train_accuracy = tf.keras.metrics.SparseCategoricalCrossentropy()\n",
        "test_accuracy = tf.keras.metrics.SparseCategoricalCrossentropy()"
      ],
      "metadata": {
        "id": "suzCSawN6-P3"
      },
      "execution_count": 10,
      "outputs": []
    },
    {
      "cell_type": "code",
      "source": [
        "@tf.function\n",
        "def train(images, labels):\n",
        "  with tf.GradientTape() as tape:\n",
        "    pred = model(images)\n",
        "    loss = loss_function(labels, pred)\n",
        "  gradients = tape.gradient(loss, model.trainable_variables)\n",
        "  optimiser.apply_gradients(zip(gradients, model.trainable_variables))\n",
        "\n",
        "  train_loss(loss)\n",
        "  train_accuracy(labels, pred)\n"
      ],
      "metadata": {
        "id": "IzHVeJxd7B6H"
      },
      "execution_count": 11,
      "outputs": []
    },
    {
      "cell_type": "code",
      "source": [
        "@tf.function\n",
        "def test(images, labels):\n",
        "  pred = model(images)\n",
        "  loss = loss_function(labels, pred)\n",
        "\n",
        "  test_loss(loss)\n",
        "  test_accuracy(labels, pred)"
      ],
      "metadata": {
        "id": "2ObrcjSz7E0i"
      },
      "execution_count": 12,
      "outputs": []
    },
    {
      "cell_type": "code",
      "source": [
        "epochs = 5\n",
        "\n",
        "for epoch in range(epochs):\n",
        "    train_loss.reset_states()\n",
        "    train_accuracy.reset_states()\n",
        "    test_loss.reset_states()\n",
        "    test_accuracy.reset_states()\n",
        "  #train\n",
        "    for images, labels in train_dataset:\n",
        "      train(images, labels)\n",
        "\n",
        "    #test\n",
        "    for images, labels in test_dataset:\n",
        "      test(images, labels)\n",
        "\n",
        "\n",
        "    print(\"epoch:\", epoch + 1,\n",
        "          f\"Train loss: {train_loss.result()}\",\n",
        "          f\"Train accuracy: {train_accuracy.result()}\",\n",
        "          f\"Test loss: {test_loss.result()}\",\n",
        "          f\"test accuracy: {test_accuracy.result()}\")\n",
        "\n"
      ],
      "metadata": {
        "colab": {
          "base_uri": "https://localhost:8080/"
        },
        "id": "52RtDcGp7Igv",
        "outputId": "4d06875f-b1e2-4a20-84e9-bb47871b951b"
      },
      "execution_count": 13,
      "outputs": [
        {
          "output_type": "stream",
          "name": "stdout",
          "text": [
            "epoch: 1 Train loss: 1.8051214218139648 Train accuracy: 4.728316307067871 Test loss: 1.6866633892059326 test accuracy: 4.678383827209473\n",
            "epoch: 2 Train loss: 1.6428214311599731 Train accuracy: 4.428423881530762 Test loss: 1.6192103624343872 test accuracy: 3.9231081008911133\n",
            "epoch: 3 Train loss: 1.5423355102539062 Train accuracy: 3.84543776512146 Test loss: 1.5207515954971313 test accuracy: 3.4681618213653564\n",
            "epoch: 4 Train loss: 1.4400385618209839 Train accuracy: 3.2264974117279053 Test loss: 1.4627463817596436 test accuracy: 3.4083333015441895\n",
            "epoch: 5 Train loss: 1.3837125301361084 Train accuracy: 3.0248146057128906 Test loss: 1.4673306941986084 test accuracy: 3.352954387664795\n"
          ]
        }
      ]
    },
    {
      "cell_type": "code",
      "source": [
        "import matplotlib.pyplot as plt\n",
        "plt.imshow(x_train[600])"
      ],
      "metadata": {
        "colab": {
          "base_uri": "https://localhost:8080/",
          "height": 448
        },
        "id": "DeSHNq4XEy-W",
        "outputId": "4b197f39-cb58-47c8-e698-45e83096eda9"
      },
      "execution_count": 26,
      "outputs": [
        {
          "output_type": "execute_result",
          "data": {
            "text/plain": [
              "<matplotlib.image.AxesImage at 0x7fcd90c66770>"
            ]
          },
          "metadata": {},
          "execution_count": 26
        },
        {
          "output_type": "display_data",
          "data": {
            "text/plain": [
              "<Figure size 640x480 with 1 Axes>"
            ],
            "image/png": "[encoded data removed]"
          },
          "metadata": {}
        }
      ]
    },
    {
      "cell_type": "code",
      "source": [
        "import cv2\n",
        "import numpy as np\n",
        "\n",
        "img = cv2.imread(\"/content/airplan.png\")\n",
        "# img = cv2.cvtColor(img, cv2.COLOR_BGR2GRAY)\n",
        "img = cv2.resize(img, (32, 32))\n",
        "# img = img[..., tf.newaxis]\n",
        "img = img[tf.newaxis, ...]\n",
        "img = img.astype(\"float32\")\n",
        "\n",
        "pred = model(img)\n",
        "result = np.argmax(pred)\n",
        "result"
      ],
      "metadata": {
        "colab": {
          "base_uri": "https://localhost:8080/"
        },
        "id": "LlLBWVpz7lAI",
        "outputId": "7e29bd38-37dc-4753-d8ad-ffc76648530f"
      },
      "execution_count": 27,
      "outputs": [
        {
          "output_type": "execute_result",
          "data": {
            "text/plain": [
              "0"
            ]
          },
          "metadata": {},
          "execution_count": 27
        }
      ]
    },
    {
      "cell_type": "code",
      "source": [
        "if result == 0:\n",
        "    print(\"airplanes\")\n",
        "elif result == 1:\n",
        "    print(\"cars\")\n",
        "elif result == 2:\n",
        "    print(\"birds\")\n",
        "elif result == 3:\n",
        "    print(\"cats\")\n",
        "elif result == 4:\n",
        "    print(\"deer\")\n",
        "elif result == 5:\n",
        "    print(\"dogs\")\n",
        "elif result == 6:\n",
        "    print(\"frogs\")\n",
        "elif result == 7:\n",
        "    print(\"horses\")\n",
        "elif result == 8:\n",
        "    print(\"ships\")\n",
        "elif result == 9:\n",
        "    print(\"trucks\")\n",
        "\n",
        "\n"
      ],
      "metadata": {
        "colab": {
          "base_uri": "https://localhost:8080/"
        },
        "id": "wk3NiDHaGmuD",
        "outputId": "8b0429ef-4370-436c-f18f-0fb907b97ea1"
      },
      "execution_count": 28,
      "outputs": [
        {
          "output_type": "stream",
          "name": "stdout",
          "text": [
            "airplanes\n"
          ]
        }
      ]
    },
    {
      "cell_type": "code",
      "source": [
        "model.save(\"My_Model\")"
      ],
      "metadata": {
        "id": "AQgro-atIW7L"
      },
      "execution_count": 29,
      "outputs": []
    },
    {
      "cell_type": "code",
      "source": [
        "model = tf.keras.models.load_model(\"/content/My_Model\")"
      ],
      "metadata": {
        "colab": {
          "base_uri": "https://localhost:8080/"
        },
        "id": "jkm4Qrx2IZr8",
        "outputId": "75d4e5d3-8840-4c97-fb81-d4095ae068b9"
      },
      "execution_count": 30,
      "outputs": [
        {
          "output_type": "stream",
          "name": "stderr",
          "text": [
            "WARNING:tensorflow:No training configuration found in save file, so the model was *not* compiled. Compile it manually.\n"
          ]
        }
      ]
    }
  ]
}